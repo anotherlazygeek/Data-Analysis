{
 "cells": [
  {
   "cell_type": "code",
   "execution_count": 115,
   "metadata": {
    "collapsed": false
   },
   "outputs": [
    {
     "name": "stdout",
     "output_type": "stream",
     "text": [
      "[[38990.0696, -1048.7102, 90.3652], [-1048.7102, 624.3557, 1888.7956], [90.3652, 1888.7956, 8966.5965]]\n"
     ]
    }
   ],
   "source": [
    "import numpy as np\n",
    "import pandas as pd\n",
    "\n",
    "import xlwt\n",
    "\n",
    "import matplotlib.pyplot as plt\n",
    "%matplotlib nbagg\n",
    "\n",
    "data = pd.read_csv('facebookdata.csv')\n",
    "#data = pd.read_csv('C:\\Users\\USER\\Desktop\\sem 5\\Data\\Assignment2')\n",
    "\n",
    "friend=array[:,0]\n",
    "\n",
    "post= array[:,1]\n",
    "like= array[:,2]\n",
    "\n",
    "def cov(x,y) :                 \n",
    "    m=len(x)\n",
    "    n=range(0,m)\n",
    "    ax=sum(x)/m\n",
    "    ay=sum(y)/m\n",
    "    \n",
    "\n",
    "    c=0\n",
    "    for ele in n:\n",
    "    \n",
    "        c=c+(x[ele]-ax)*(y[ele]-ay)\n",
    "\n",
    "    #return (c/9999) \n",
    "    return (float(str(round(c/9999, 4))))\n",
    "\n",
    "w, h = 3,3;\n",
    "a = [[0 for x in range(w)] for y in range(h)] \n",
    "\n",
    "a[0][0]=(cov(friend,friend))\n",
    "a[0][1]=(cov(friend,post))\n",
    "a[0][2]=(cov(friend,like))\n",
    "a[1][0]=(cov(post,friend))\n",
    "a[1][1]=(cov(post,post))\n",
    "a[1][2]=(cov(post,like))\n",
    "a[2][0]=(cov(like,friend))\n",
    "a[2][1]=(cov(like,post))\n",
    "a[2][2]=(cov(like,like))\n",
    "print(a)\n"
   ]
  },
  {
   "cell_type": "code",
   "execution_count": 128,
   "metadata": {
    "collapsed": false
   },
   "outputs": [
    {
     "name": "stdout",
     "output_type": "stream",
     "text": [
      "[[1.0, -0.2126, 0.0048], [-0.2126, 1.0, 0.7983], [0.0048, 0.7983, 1.0]]\n"
     ]
    }
   ],
   "source": [
    "def corr(x,y):\n",
    "    c= cov(x,y)/(cov(x,x)*cov(y,y))**(1/2)\n",
    "    return (float(str(round(c, 4))))\n",
    "w, h = 3,3;\n",
    "b = [[0 for x in range(w)] for y in range(h)] \n",
    "\n",
    "b[0][0]=(corr(friend,friend))\n",
    "b[0][1]=(corr(friend,post))\n",
    "b[0][2]=(corr(friend,like))\n",
    "b[1][0]=(corr(post,friend))\n",
    "b[1][1]=(corr(post,post))\n",
    "b[1][2]=(corr(post,like))\n",
    "b[2][0]=(corr(like,friend))\n",
    "b[2][1]=(corr(like,post))\n",
    "b[2][2]=(corr(like,like))\n",
    "print(b)"
   ]
  }
 ],
 "metadata": {
  "kernelspec": {
   "display_name": "Python 3",
   "language": "python",
   "name": "python3"
  },
  "language_info": {
   "codemirror_mode": {
    "name": "ipython",
    "version": 3
   },
   "file_extension": ".py",
   "mimetype": "text/x-python",
   "name": "python",
   "nbconvert_exporter": "python",
   "pygments_lexer": "ipython3",
   "version": "3.6.0"
  }
 },
 "nbformat": 4,
 "nbformat_minor": 2
}
