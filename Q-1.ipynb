{
 "cells": [
  {
   "cell_type": "code",
   "execution_count": 2,
   "metadata": {
    "collapsed": false
   },
   "outputs": [
    {
     "name": "stdout",
     "output_type": "stream",
     "text": [
      "[[1880.004 1880.000 1.000 2.000 2.000 -0.670 8.010]\n",
      " [1880.007 1880.000 1.000 3.000 3.000 -0.740 7.940]\n",
      " [1880.010 1880.000 1.000 4.000 4.000 -0.705 7.975]\n",
      " [1880.012 1880.000 1.000 5.000 5.000 -0.752 7.928]\n",
      " ..., \n",
      " [2014.990 2014.000 12.000 28.000 362.000 1.075 9.755]\n",
      " [2014.993 2014.000 12.000 29.000 363.000 0.901 9.581]\n",
      " [2014.996 2014.000 12.000 30.000 364.000 0.886 9.566]\n",
      " [2014.999 2014.000 12.000 31.000 365.000 0.910 9.590]]\n"
     ]
    },
    {
     "data": {
      "text/plain": [
       "<matplotlib.text.Text at 0x1b173fc52e8>"
      ]
     },
     "execution_count": 2,
     "metadata": {},
     "output_type": "execute_result"
    }
   ],
   "source": [
    "#Importing the data and Adding the column\n",
    "\n",
    "import numpy as np\n",
    "import pandas as pd\n",
    "import xlwt\n",
    "import matplotlib.pyplot as plt                                                 #importing libraries \n",
    "\n",
    "data = pd.read_excel('random.xlsx')                                             #importing data from excel file through pandas \n",
    "array= data.values                                                              #converting pandas into numphy\n",
    "\n",
    "tempfix = lambda t : t + 8.68                                                   #creating a function of type f(x)=x+8.86\n",
    "vtempfix= np.vectorize(tempfix)                                                 #vectorizing the function to operate on a column\n",
    "newcolumn = vtempfix(array[:,5])                                                #operating the function on column 6\n",
    "reshapenewcolumn = np.reshape(newcolumn, (newcolumn.size, 1))                   #reshaping the data\n",
    "betterdata=np.append(array,reshapenewcolumn,axis=1)                             #combining the new column with old data   \n",
    "np.set_printoptions(edgeitems=4,formatter={'float_kind':'{:0.3f}'.format})     # changing to decimal format and precession to 3 \n",
    "\n",
    "print(betterdata)                                                               #printing the data\n",
    "\n",
    "\n",
    "#_______________________________________________________________________________________________________________________\n",
    "\n",
    "#Importing temprature vales of every day in the array \"reqarray\"\n",
    "\n",
    "np.set_printoptions(formatter={'float_kind':'{:0.3f}'.format})\n",
    "import matplotlib.pyplot as plt\n",
    "i=range(0,49307)\n",
    "j=range(1,365)\n",
    "req=[]                                                      #initializing array\n",
    "for elm in i:                                              #for loop to run along the rows of data\n",
    "         if betterdata[elm,1] == 2012:                     #if loop to select the with given year(1912 in the code)\n",
    "            req.append(betterdata[elm,:])                  #Forming a 1-d array                     \n",
    "reqarray = np.vstack([req[x] for x in j])                  #forming a multi diminsional array  \n",
    "#print(reqarray[:,6])\n",
    "\n",
    "#_______________________________________________________________________________________________________________________\n",
    "\n",
    "#Importing temprature vales of 1st and 15th of every month in the array \"reqarray1\"\n",
    "i=range(0,49307)\n",
    "j=range(0,365)\n",
    "s=range(0,24)\n",
    "req=[]                                                     \n",
    "for elm in i:                                            \n",
    "    if (betterdata[elm,1] == 2012) and ((betterdata[elm,3] == 15) or(betterdata[elm,3] == 1)): #choosing 1st and 15th day                   \n",
    "        req.append(betterdata[elm,:])                                                          #Forming a 1-d array\n",
    "reqarray1 = np.vstack([req[x] for x in s])                                                  #forming a multi diminsional array \n",
    "np.set_printoptions(edgeitems=4,formatter={'float_kind':'{:0.3f}'.format}) \n",
    "#print(reqarray1[:,6])                  \n",
    "\n",
    "#__________________________________________________________________________________________________________________________\n",
    "\n",
    "#ploting the graph\n",
    "\n",
    "bins2012=[8.4,8.6,8.8,9.0,9.2,9.4,9.6,9.8,10.0,10.2,10.4,10.6,10.8]  \n",
    "bins1912=[7.1,7.2,7.3,7.4,7.5,7.6,7.7,7.8,7.9,8.0,8.1,8.2,8.3,8.4,8.5,8.6,8.7,8.8,8.9,9.0,9.1,9.2,9.3,9.4] \n",
    "bins19121=[7.0,7.2,7.4,7.6,7.8,8.0,8.2,8.4,8.6,8.8,9.0]                    #defining bins\n",
    "\n",
    "values, bins = np.histogram(reqarray[:,6],bins=bins2012)            #taking frequency data from histogram of reqarray                                \n",
    "values1, bins1 = np.histogram(reqarray1[:,6],bins=bins2012)          #taking frequency data from histogram of reqarray1\n",
    "\n",
    "area = sum(np.diff(bins)*values)                                   #caluclation area of reqarray histogram\n",
    "area1 = sum(np.diff(bins1)*values1)                                #caluclation area of reqarray1 histogram\n",
    "c=round(area/area1,0)\n",
    "c=int(c)                                                           #ratio of areas\n",
    "\n",
    "\n",
    "widths = np.diff(bins)\n",
    "widths1 = np.diff(bins1)\n",
    "values1 *= c                                                       #scaling the frequency values to make the area of both the histograms same  \n",
    "\n",
    "plt.figure(1)                                                      #plotting the image \n",
    "\n",
    "plt.subplot(211)                                                   #histogram of 1st and 15th day \n",
    "plt.bar(bins2012[:-1],values1,widths)\n",
    "plt.title('1st and 15th of each Month in a year') \n",
    "plt.xlabel('Temprature'' ''C')\n",
    "plt.ylabel('Frequency')  \n",
    "\n",
    "plt.subplot(212)                                                   #histogram of every day temprature \n",
    "plt.bar(bins2012[:-1],values,widths1)\n",
    "plt.title('Every day of year')\n",
    "plt.xlabel('Temprature'' ''C')\n",
    "plt.ylabel('Frequency')                                    \n",
    "\n",
    "#print(c)\n",
    "#plt.show()\n",
    "\n",
    "#_______________________________________________________________________________________________________________________________________"
   ]
  },
  {
   "cell_type": "code",
   "execution_count": 15,
   "metadata": {
    "collapsed": false
   },
   "outputs": [
    {
     "name": "stdout",
     "output_type": "stream",
     "text": [
      "[0.344, 0.317, 0.468, 0.383, 0.302, 0.383, 0.399, 0.42, 0.411, 0.446, 0.297, 0.341, 0.377, 0.601, 0.323, 0.453, 0.367, 0.395, 0.442, 0.443, 0.434, 0.337, 0.464, 0.428, 0.313, 0.383, 0.405, 0.351, 0.381, 0.409, 0.386, 0.381, 0.46, 0.384, 0.32, 0.347, 0.413, 0.461, 0.356, 0.391, 0.427, 0.297, 0.369, 0.346, 0.324, 0.387, 0.444, 0.457, 0.338, 0.483, 0.415, 0.433, 0.485, 0.323, 0.406, 0.504, 0.365, 0.36, 0.343, 0.436, 0.339, 0.375, 0.325, 0.433, 0.382, 0.47, 0.398, 0.404, 0.39, 0.349, 0.378, 0.513, 0.42, 0.381, 0.406, 0.444, 0.296, 0.37, 0.462, 0.438, 0.507, 0.396, 0.366, 0.442, 0.352, 0.379, 0.404, 0.415, 0.506, 0.496, 0.393, 0.388, 0.458, 0.404, 0.385, 0.449, 0.387, 0.458, 0.421, 0.459, 0.399, 0.467, 0.426, 0.378, 0.49, 0.436, 0.473, 0.455, 0.362, 0.392, 0.534, 0.451, 0.518, 0.465, 0.466, 0.428, 0.416, 0.424, 0.494, 0.425, 0.482, 0.436, 0.513, 0.444, 0.519, 0.369, 0.409, 0.489, 0.526, 0.366, 0.478, 0.425, 0.523, 0.35, 0.463]\n"
     ]
    },
    {
     "data": {
      "image/png": "[encoded data removed]",
      "text/plain": [
       "<matplotlib.figure.Figure at 0x1b2bca973c8>"
      ]
     },
     "metadata": {},
     "output_type": "display_data"
    }
   ],
   "source": [
    "#Functions \n",
    "def avg(y):                                   #Defining a function avg(y) that finds the avrage temprature of year 'y'\n",
    "    \n",
    "    i=range(0,49307)\n",
    "    j=range(1,365)\n",
    "    req=[]\n",
    "    for elm in i:\n",
    "         if betterdata[elm,1] == y:                         #collecting temprature data of year 'y'\n",
    "            req.append(betterdata[elm,:])\n",
    "    reqarray = np.vstack([req[x] for x in j])          \n",
    "    \n",
    "    return float(str(round(np.sum(reqarray[:,6])/365, 3)))  #finding their mean    \n",
    "\n",
    "def sd(y):                                   #Defining a function sd(y) that finds the standard deviation temprature of year 'y'\n",
    "\n",
    "    i=range(0,49307)\n",
    "    j=range(1,365)\n",
    "    req=[]\n",
    "    for elm in i:\n",
    "         if betterdata[elm,1] == y:\n",
    "            req.append(betterdata[elm,:])\n",
    "    reqarray = np.vstack([req[x] for x in j]) \n",
    "    \n",
    "    return float(str(round(np.std(reqarray[:,6]), 3)))  #finding the standard deviation       \n",
    "\n",
    "\n",
    "#_____________________________________________________________________________________________________________________________________\n",
    "\n",
    "#Avrage temprature Scatter plot\n",
    "k=range(1,46)\n",
    "x=[]\n",
    "y=[]\n",
    "for el in k:                          #loop to choose and find the average temprature of every 3rd year from 1880\n",
    "        l=1879+3*el\n",
    "        x.append(l)\n",
    "        y.append(avg(l))             #appending avrage values to variable y\n",
    "        \n",
    "np.set_printoptions(edgeitems=5)        \n",
    "plt.title('Scatter Plot')\n",
    "plt.xlabel('Year')\n",
    "plt.ylabel('Average Temprature')\n",
    "plt.scatter(x,y)\n",
    "#plt.show()                         #plotting the scatter graph\n",
    "\n",
    "#_______________________________________________________________________________________________________________________________________\n",
    "\n",
    "#EROOR BAR PLOT\n",
    "\n",
    "  \n",
    "p=range(1880,2015)\n",
    "x1=[]\n",
    "y1=[]\n",
    "sdv=[]\n",
    "for el in p:\n",
    "        l=el\n",
    "        x1.append(l)\n",
    "        y1.append(avg(l))                    #appending avrage values to variable y1\n",
    "        sdv.append(sd(l))                    #appending avrage values to variable sdv\n",
    "        \n",
    "    \n",
    "plt.errorbar(x1, y1,yerr=sdv)               #plotting the error bar plot\n",
    "np.set_printoptions(edgeitems=7)  \n",
    "print(sdv)\n",
    "plt.title('Error Bar Plot')\n",
    "plt.xlabel('Year')\n",
    "plt.ylabel('Average Temprature')\n",
    "plt.show()\n"
   ]
  },
  {
   "cell_type": "code",
   "execution_count": null,
   "metadata": {
    "collapsed": true
   },
   "outputs": [],
   "source": []
  }
 ],
 "metadata": {
  "anaconda-cloud": {},
  "kernelspec": {
   "display_name": "Python 3",
   "language": "python",
   "name": "python3"
  },
  "language_info": {
   "codemirror_mode": {
    "name": "ipython",
    "version": 3
   },
   "file_extension": ".py",
   "mimetype": "text/x-python",
   "name": "python",
   "nbconvert_exporter": "python",
   "pygments_lexer": "ipython3",
   "version": "3.6.0"
  }
 },
 "nbformat": 4,
 "nbformat_minor": 0
}
