{
 "cells": [
  {
   "cell_type": "code",
   "execution_count": 40,
   "metadata": {
    "collapsed": false
   },
   "outputs": [
    {
     "name": "stdout",
     "output_type": "stream",
     "text": [
      "The value of pi obtained is : [3.066]\n",
      "The percentage error in caluclation of pi is : 2.4061888960497817\n"
     ]
    }
   ],
   "source": [
    "import matplotlib.pyplot as plt\n",
    "% matplotlib inline\n",
    "import math\n",
    "p=math.pi\n",
    "from random import randint \n",
    "i=range(0,2001)               \n",
    "pie=[]\n",
    "x=[]\n",
    "y=[]\n",
    "for elem in i:                             #genrating 2000 random points in a square\n",
    "    xx=(randint(0,2000))/(2000)\n",
    "    yy=(randint(0,2000))/(2000)\n",
    "    if (xx-0.5)**2+(yy-0.5)**2<0.25:       #calculating howmany points lie within the circle\n",
    "        x.append(xx)\n",
    "        y.append(yy)    \n",
    "pie.append((len(x)/2000)*4)                   \n",
    "print('The value of pi obtained is :',pie)  #value of pi\n",
    "print('The percentage error in caluclation of pi is :',abs(p-sum(pie))*100/p)    #error in pi\n"
   ]
  },
  {
   "cell_type": "code",
   "execution_count": null,
   "metadata": {
    "collapsed": true
   },
   "outputs": [],
   "source": []
  },
  {
   "cell_type": "code",
   "execution_count": null,
   "metadata": {
    "collapsed": true
   },
   "outputs": [],
   "source": []
  }
 ],
 "metadata": {
  "anaconda-cloud": {},
  "kernelspec": {
   "display_name": "Python [Root]",
   "language": "python",
   "name": "Python [Root]"
  },
  "language_info": {
   "codemirror_mode": {
    "name": "ipython",
    "version": 3
   },
   "file_extension": ".py",
   "mimetype": "text/x-python",
   "name": "python",
   "nbconvert_exporter": "python",
   "pygments_lexer": "ipython3",
   "version": "3.5.2"
  }
 },
 "nbformat": 4,
 "nbformat_minor": 0
}
